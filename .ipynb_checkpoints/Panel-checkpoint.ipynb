{
 "cells": [
  {
   "cell_type": "code",
   "execution_count": 2,
   "metadata": {
    "collapsed": true
   },
   "outputs": [],
   "source": [
    "%matplotlib inline"
   ]
  },
  {
   "cell_type": "code",
   "execution_count": 3,
   "metadata": {
    "collapsed": false
   },
   "outputs": [],
   "source": [
    "import os\n",
    "import os.path as op\n",
    "import cPickle as pickle\n",
    "import pandas as pd\n",
    "import numpy as np\n",
    "import seaborn as sns\n",
    "import matplotlib.pyplot as plt\n",
    "\n",
    "plt.close('all')\n",
    "datadir = op.join(os.getcwd(), 'data')\n",
    "#Oxygen consumption data\n",
    "with open(op.join(datadir, 'o2data.pkl'), 'rb') as INPUT:\n",
    "    dfo2 = pickle.load(INPUT)\n",
    "#Mitochondrial Network  Topology data\n",
    "with open(op.join(datadir, 'munged_dataframe.pkl'), 'rb') as INPUT:\n",
    "    df = pickle.load(INPUT)\n",
    "#Mitochondrial tubule heterogeneity data    \n",
    "with open(op.join(datadir, 'lagedges.pkl'), 'rb') as INPT:\n",
    "    dflags = pickle.load(INPT)\n",
    "df['lags_1'] = dflags\n",
    "#Cell size data\n",
    "with open(op.join(datadir, 'cellVolume.pkl'), 'rb') as INPT:\n",
    "    dfsize = pickle.load(INPT)\n",
    "    dfsize.index = dfsize.cell"
   ]
  },
  {
   "cell_type": "markdown",
   "metadata": {},
   "source": [
    "Set defaults for plotting"
   ]
  },
  {
   "cell_type": "code",
   "execution_count": 4,
   "metadata": {
    "collapsed": false
   },
   "outputs": [
    {
     "ename": "NameError",
     "evalue": "name 'defaultdict' is not defined",
     "output_type": "error",
     "traceback": [
      "\u001b[1;31m---------------------------------------------------------------------------\u001b[0m",
      "\u001b[1;31mNameError\u001b[0m                                 Traceback (most recent call last)",
      "\u001b[1;32m<ipython-input-4-8cacd1bcdf47>\u001b[0m in \u001b[0;36m<module>\u001b[1;34m()\u001b[0m\n\u001b[0;32m      1\u001b[0m \u001b[0mplt\u001b[0m\u001b[1;33m.\u001b[0m\u001b[0mrcParams\u001b[0m\u001b[1;33m[\u001b[0m\u001b[1;34m'font.family'\u001b[0m\u001b[1;33m]\u001b[0m \u001b[1;33m=\u001b[0m \u001b[1;34m'DejaVu Sans'\u001b[0m\u001b[1;33m\u001b[0m\u001b[0m\n\u001b[0;32m      2\u001b[0m \u001b[0mplt\u001b[0m\u001b[1;33m.\u001b[0m\u001b[0mrcParams\u001b[0m\u001b[1;33m[\u001b[0m\u001b[1;34m'savefig.dpi'\u001b[0m\u001b[1;33m]\u001b[0m \u001b[1;33m=\u001b[0m \u001b[1;36m100\u001b[0m\u001b[1;33m\u001b[0m\u001b[0m\n\u001b[1;32m----> 3\u001b[1;33m \u001b[0mvtkF\u001b[0m \u001b[1;33m=\u001b[0m \u001b[0mdefaultdict\u001b[0m\u001b[1;33m(\u001b[0m\u001b[0mdict\u001b[0m\u001b[1;33m)\u001b[0m\u001b[1;33m\u001b[0m\u001b[0m\n\u001b[0m\u001b[0;32m      4\u001b[0m sns.set(style='whitegrid', context='paper', \n\u001b[0;32m      5\u001b[0m         rc={'patch.linewidth':1,\n",
      "\u001b[1;31mNameError\u001b[0m: name 'defaultdict' is not defined"
     ]
    }
   ],
   "source": [
    "plt.rcParams['font.family'] = 'DejaVu Sans'\n",
    "plt.rcParams['savefig.dpi'] = 100\n",
    "sns.set(style='whitegrid', context='paper', \n",
    "        rc={'patch.linewidth':1,\n",
    "            'patch.edgecolor':(.25,.25,.25),\n",
    "            'lines.linewidth': 1})"
   ]
  },
  {
   "cell_type": "markdown",
   "metadata": {},
   "source": [
    "Dataframe and bins initialization"
   ]
  },
  {
   "cell_type": "code",
   "execution_count": null,
   "metadata": {
    "collapsed": false
   },
   "outputs": [],
   "source": [
    "dfvol = pd.DataFrame({'Vol': dfsize.loc[:, 'Vol'],\n",
    "                      'mitolen': df.loc[:, 'mito_totlen'],\n",
    "                      'media': df.loc[:, 'media']})\n",
    "\n",
    "dfvol['mitovol'] = np.pi * (.15)**2 * dfvol.mitolen\n",
    "dfvol['Vol Ratio'] = dfvol.mitovol / dfvol.Vol\n",
    "\n",
    "#   Topology  (by cell)\n",
    "dfcellcon = df.ix[:, ['mito_cell_avedyr',\n",
    "                      'cell_coefvar_r',\n",
    "                      'mito_beta_geo',\n",
    "                      'mito_beta_top',\n",
    "                      'mito_phi',\n",
    "                      'mito_pk3',\n",
    "                      'mito_avgdeg',\n",
    "                      'mito_edgenum']]\n",
    "dfcellcon = pd.concat([dfcellcon,\n",
    "                       dfvol.loc[:, 'Vol Ratio'],\n",
    "                       df.loc[:, 'media']], axis=1)\n",
    "dfcellcon = dfcellcon[dfcellcon.mito_cell_avedyr <= 2000]  # exclude hi YPE's\n",
    "dfcellcon[r'$\\Delta \\Psi$ Unscaled'] = dfcellcon[\"mito_cell_avedyr\"]\n",
    "dfcellcon['Number of Edges'] = dfcellcon.mito_edgenum\n",
    "dfcellcon['Average Degree'] = dfcellcon.mito_avgdeg\n",
    "dfcellcon['O2 per mito vol'] = ''\n",
    "dfcellcon['OCR per cell'] = ''"
   ]
  },
  {
   "cell_type": "markdown",
   "metadata": {},
   "source": [
    "Plotting ΔΨ and mitochondrial volume ratio as a function of carbon sources show that cells in fermentation conditions (YPD) have lower mitochondrial respiration rate and content. For cells grown in respiratory conditions (YPE, YPL and YPR) the relationship between mitochondrial content and respiration levels is mixed."
   ]
  },
  {
   "cell_type": "code",
   "execution_count": null,
   "metadata": {
    "collapsed": false
   },
   "outputs": [],
   "source": [
    "f, (ax1, ax0) = plt.subplots(2, 1,\n",
    "                             figsize=(4.5, 3.5),\n",
    "                             sharex=True)\n",
    "sns.violinplot('media',\n",
    "               'Vol Ratio',\n",
    "               data=dfcellcon,\n",
    "               hue='media',\n",
    "               ax=ax0)\n",
    "ax0.set_xlabel('')\n",
    "ax0.set_ylabel('Volume Ratio')\n",
    "ax0.get_legend().set_visible(False)\n",
    "\n",
    "A = dfo2.groupby('type').quantile(0.025).values.flatten()\n",
    "B = dfo2.groupby('type').quantile(0.975).values.flatten()\n",
    "C = dfo2.groupby('type').quantile(0.5).values.flatten()\n",
    "g = sns.barplot(x='type',\n",
    "                y='OCRmito',\n",
    "                estimator=np.median,\n",
    "                ci=None,\n",
    "                ecolor=[.25, .25, .25],\n",
    "                data=dfo2,\n",
    "                yerr=[C-A, B-C],\n",
    "                ax=ax1)\n",
    "ax1.set_ylabel(r'OCR per mito vol /$\\mu m^{3}$')\n",
    "ax1.set_xlabel('')\n"
   ]
  },
  {
   "cell_type": "code",
   "execution_count": null,
   "metadata": {
    "collapsed": false
   },
   "outputs": [],
   "source": [
    "f, ([ax0, ax1], [ax3, ax2]) = plt.subplots(2, 2,\n",
    "                                  figsize=(5.5, 4.25),\n",
    "                                  sharex=True)\n",
    "g = sns.barplot(x='type',\n",
    "                y='OCRmito',\n",
    "                estimator=np.median,\n",
    "                ci=None,\n",
    "                ecolor=[.25, .25, .25],\n",
    "                data=dfo2,\n",
    "                yerr=[C-A, B-C],\n",
    "                ax=ax1)\n",
    "\n",
    "ax1.set_ylabel(r'OCR per mito vol /$\\mu m^{3}$')\n",
    "ax1.set_xlabel('')\n",
    "ax1.set_yticks(np.arange(0, .015, .005))\n",
    "#    ax1.get_legend().set_visible(False)\n",
    "\n",
    "sns.violinplot('media',\n",
    "               'mito_cell_avedyr',\n",
    "               data=dfcellcon,\n",
    "               hue='media',\n",
    "               ax=ax2)\n",
    "ax2.set_ylabel(r'$\\Delta \\Psi$ ')\n",
    "ax2.set_ylim(0, 2000)\n",
    "ax2.set_xlabel('')\n",
    "ax2.get_legend().set_visible(False)\n",
    "\n",
    "sns.violinplot('media',\n",
    "               'Vol Ratio',\n",
    "               data=dfcellcon,\n",
    "               hue='media',\n",
    "               estimator=np.median,\n",
    "               ax=ax3)\n",
    "ax3.set_ylabel('Vol Ratio')\n",
    "ax3.set_ylim(0)\n",
    "ax3.set_xlabel('')\n",
    "ax3.get_legend().set_visible(False)\n",
    "sns.despine(bottom=True)\n",
    "plt.tight_layout(w_pad=3)\n",
    "plt.savefig('panel.svg')\n"
   ]
  }
 ],
 "metadata": {
  "kernelspec": {
   "display_name": "Python 2",
   "language": "python",
   "name": "python2"
  },
  "language_info": {
   "codemirror_mode": {
    "name": "ipython",
    "version": 2
   },
   "file_extension": ".py",
   "mimetype": "text/x-python",
   "name": "python",
   "nbconvert_exporter": "python",
   "pygments_lexer": "ipython2",
   "version": "2.7.11"
  }
 },
 "nbformat": 4,
 "nbformat_minor": 0
}
