{
 "cells": [
  {
   "cell_type": "code",
   "execution_count": 1,
   "metadata": {
    "collapsed": false
   },
   "outputs": [
    {
     "name": "stderr",
     "output_type": "stream",
     "text": [
      "WARNING:traits.has_traits:DEPRECATED: traits.has_traits.wrapped_class, 'the 'implements' class advisor has been deprecated. Use the 'provides' class decorator.\n"
     ]
    }
   ],
   "source": [
    "import os\n",
    "import cPickle as pickle\n",
    "import fnmatch\n",
    "from collections import defaultdict\n",
    "import pandas as pd\n",
    "import seaborn as sns\n",
    "from vtk_viz import vtk_mbfuncs as vf\n",
    "import matplotlib.pyplot as plt\n",
    "plt.rcParams['font.family'] = 'DejaVu Sans'\n",
    "plt.close('all')\n",
    "vtkF = defaultdict(dict)\n",
    "mombud = defaultdict(dict)"
   ]
  },
  {
   "cell_type": "code",
   "execution_count": 2,
   "metadata": {
    "collapsed": false
   },
   "outputs": [],
   "source": [
    "with open('data\\mombudtrans.pkl', 'rb') as inpt:\n",
    "    dfmb = pickle.load(inpt)  # has columns base, neck, tip, media, bud, mom\n",
    "\n",
    "for root, dirs, files in os.walk(os.getcwd()):\n",
    "    for i in files:\n",
    "        if fnmatch.fnmatch(i, '*.vtk'):\n",
    "            media = root.rsplit('\\\\', 1)[1]\n",
    "            vtkF[media][i[:-4]] = os.path.join(root, i)\n",
    "\n",
    "filekeys = {item: vtkF[media][item] for media\n",
    "            in sorted(vtkF.keys()) for item\n",
    "            in sorted(vtkF[media].keys())}"
   ]
  },
  {
   "cell_type": "code",
   "execution_count": null,
   "metadata": {
    "collapsed": true
   },
   "outputs": [],
   "source": []
  },
  {
   "cell_type": "code",
   "execution_count": null,
   "metadata": {
    "collapsed": true
   },
   "outputs": [],
   "source": []
  }
 ],
 "metadata": {
  "kernelspec": {
   "display_name": "Python 2",
   "language": "python",
   "name": "python2"
  },
  "language_info": {
   "codemirror_mode": {
    "name": "ipython",
    "version": 2
   },
   "file_extension": ".py",
   "mimetype": "text/x-python",
   "name": "python",
   "nbconvert_exporter": "python",
   "pygments_lexer": "ipython2",
   "version": "2.7.11"
  }
 },
 "nbformat": 4,
 "nbformat_minor": 0
}
