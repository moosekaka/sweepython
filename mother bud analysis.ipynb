{
 "cells": [
  {
   "cell_type": "markdown",
   "metadata": {},
   "source": [
    "## Mother Daughter Δψ assymetry analsis"
   ]
  },
  {
   "cell_type": "code",
   "execution_count": 1,
   "metadata": {
    "collapsed": false
   },
   "outputs": [
    {
     "name": "stderr",
     "output_type": "stream",
     "text": [
      "WARNING:traits.has_traits:DEPRECATED: traits.has_traits.wrapped_class, 'the 'implements' class advisor has been deprecated. Use the 'provides' class decorator.\n"
     ]
    }
   ],
   "source": [
    "import os\n",
    "import cPickle as pickle\n",
    "import fnmatch\n",
    "from collections import defaultdict\n",
    "import pandas as pd\n",
    "import seaborn as sns\n",
    "from vtk_viz import vtk_mbfuncs as vf\n",
    "import matplotlib.pyplot as plt\n",
    "import numpy as np\n",
    "plt.rcParams['font.family'] = 'DejaVu Sans'\n",
    "plt.close('all')\n",
    "vtkF = defaultdict(dict)\n",
    "mombud = defaultdict(dict)"
   ]
  },
  {
   "cell_type": "markdown",
   "metadata": {},
   "source": [
    "Load data files which are coordinates and Δψ values along the mitochondrial network"
   ]
  },
  {
   "cell_type": "code",
   "execution_count": 2,
   "metadata": {
    "collapsed": false
   },
   "outputs": [],
   "source": [
    "with open('data\\mombudtrans.pkl', 'rb') as inpt:\n",
    "    dfmb = pickle.load(inpt)  # has columns base, neck, tip, media, bud, mom\n",
    "\n",
    "for root, dirs, files in os.walk(os.getcwd()):\n",
    "    for i in files:\n",
    "        if fnmatch.fnmatch(i, '*.vtk'):\n",
    "            media = root.rsplit('\\\\', 1)[1]\n",
    "            vtkF[media][i[:-4]] = os.path.join(root, i)\n",
    "\n",
    "filekeys = {item: vtkF[media][item] for media\n",
    "            in sorted(vtkF.keys()) for item\n",
    "            in sorted(vtkF[media].keys())}"
   ]
  },
  {
   "cell_type": "markdown",
   "metadata": {},
   "source": [
    "Dataframe and bins initialization"
   ]
  },
  {
   "cell_type": "code",
   "execution_count": 3,
   "metadata": {
    "collapsed": false
   },
   "outputs": [],
   "source": [
    "cellall = pd.DataFrame(columns=['mom', 'bud'])\n",
    "cellposmom = pd.DataFrame()\n",
    "cellposbud = pd.DataFrame()\n",
    "neckregion = pd.DataFrame()\n",
    "binsbudprog = np.array([0., 0.1, 0.2, 0.3, 0.4, 0.5,\n",
    "                        0.6, 0.7, 0.8, 0.9, 1., 2.])\n",
    "binsaxis = np.linspace(0., 1., 6)\n",
    "binsaxisbig = np.linspace(0, 1., 11)\n",
    "binsvolbud = np.linspace(0, 40, 5)\n",
    "binsvolmom = np.array([0, 30, 40, 80.])"
   ]
  },
  {
   "cell_type": "markdown",
   "metadata": {},
   "source": [
    "Partition the mom and daughter cells using the points picked in the 'mombudtrans.pkl'. "
   ]
  },
  {
   "cell_type": "code",
   "execution_count": 4,
   "metadata": {
    "collapsed": true
   },
   "outputs": [],
   "source": [
    "\n",
    "for _, key in enumerate(sorted(filekeys.keys())[:]):\n",
    "    cell = vf.cellpos(filekeys[key], dfmb)\n",
    "    # pos along x-axis for inidivual mom or bud cell\n",
    "    cell['binposx'] = vf.bincell(cell, 'posx', binsaxis)\n",
    "    # scaled Δψ to min-max of the GRADIENT within mom/bud\n",
    "    Xmom = cell.ix[cell['type'] == 'mom'].groupby('binposx').DY.mean()\n",
    "    Xbud = cell.ix[cell['type'] == 'bud'].groupby('binposx').DY.mean()\n",
    "    # pos along x-axis for the whole cell\n",
    "    cell['binposxcell'] = vf.bincell(cell, 'posxcell', binsaxisbig)\n",
    "    # scale Δψ to min-max of the GRADIENT within cell\n",
    "    DYcell = cell.groupby('binposxcell').DY.mean()\n",
    "    Xmom = vf.scaleminmax(Xmom, DYcell)\n",
    "    Xbud = vf.scaleminmax(Xbud, DYcell)\n",
    "    Xbud.name = key\n",
    "    Xmom.name = key\n",
    "    medianDY = cell.groupby('type').median().DY\n",
    "    medianDY.name = key\n",
    "    cellall = cellall.append(medianDY)\n",
    "    cellposbud = cellposbud.append(Xbud)\n",
    "    cellposmom = cellposmom.append(Xmom)\n",
    "    # temp dict of mean Δψ at +- range of dist from budneck\n",
    "    tempdic = {dist: vf.neckDY(cell, cell.neckpos, dist)\n",
    "               for dist in [.15, .3, .5]}\n",
    "    temp = pd.DataFrame({'bud': pd.Series({k: tempdic[k][0] for k in tempdic}),\n",
    "                         'mom': pd.Series({k: tempdic[k][1] for k in tempdic}),\n",
    "                         'cellname': key})\n",
    "    temp['dist'] = temp.index\n",
    "    temp.set_index('cellname', inplace=True)\n",
    "    neckregion = neckregion.append(temp, ignore_index=False)\n",
    "\n",
    "cellall['budvol'] = dfmb.bud\n",
    "cellall['momvol'] = dfmb.mom\n",
    "cellall = cellall.reset_index()\n",
    "cellall['type'] = cellall['index'].apply(lambda x: x[:3])\n",
    "cellposbud = cellposbud.reset_index()\n",
    "cellposmom = cellposmom.reset_index()\n",
    "cellposbud = pd.concat([cellposbud, cellall.ix[:, ['type', 'neck']]], axis=1)\n",
    "cellposmom = pd.concat([cellposmom, cellall.ix[:, ['type', 'neck']]], axis=1)\n",
    "\n",
    "cellall['frac'] = cellall.ix[:, 'bud'] / cellall.ix[:, 'mom']\n",
    "Q = cellall.groupby('type').quantile(.90)  # 90th percentile of each cols\n",
    "#  q90 = 90th percentile bud volume of each media type\n",
    "cellall['q90'] = cellall.type.apply(lambda x: Q.ix[x].budvol)\n",
    "gt90 = cellall[cellall['budvol'] > cellall['q90']]\n",
    "meangt90 = gt90.groupby('type').budvol.mean()\n",
    "cellall['mean90'] = cellall.type.apply(lambda x: meangt90.ix[x])\n",
    "#  budvolratio is based on the largest 10% cells\n",
    "cellall['budvolratio'] = cellall.budvol / cellall.q90\n",
    "cellposbud['budvol'] = cellall['budvol']\n",
    "cellposmom['momvol'] = cellall['momvol']\n",
    "\n",
    "cellposbud['binvol'] = vf.bincell(cellposbud, 'budvol', binsvolbud)\n",
    "cellposmom['binvol'] = vf.bincell(cellposmom, 'momvol', binsvolmom)"
   ]
  },
  {
   "cell_type": "code",
   "execution_count": null,
   "metadata": {
    "collapsed": true
   },
   "outputs": [],
   "source": [
    "Cells binned by their progression along the cell cycle"
   ]
  },
  {
   "cell_type": "code",
   "execution_count": 9,
   "metadata": {
    "collapsed": true
   },
   "outputs": [],
   "source": [
    "BIG = pd.melt(cellall,\n",
    "              id_vars=['type'],\n",
    "              value_vars=['frac'])\n",
    "groups = BIG.groupby('type')\n",
    "\n",
    "BIG2 = pd.melt(cellall,\n",
    "               id_vars=['type'],\n",
    "               value_vars=['mom', 'bud'])\n",
    "\n",
    "cellall['bin_budprog'] = vf.bincell(cellall, 'budvolratio', binsbudprog)\n",
    "\n",
    "\n",
    "cellall['binbudvol'] = cellposbud['binvol']\n",
    "\n",
    "# reject super large cells\n",
    "rejectlist = cellposmom.ix[(np.asarray(cellposmom.momvol) > 60) &\n",
    "                           (cellposmom.type != 'YPD'), 'index']\n",
    "cellall = cellall.ix[~ cellall.ix[:, 'index'].isin(rejectlist)]\n",
    "cellposmom = cellposmom.ix[~cellposmom.ix[:, 'index'].isin(rejectlist)]\n",
    "cellposbud = cellposbud.ix[~cellposbud.ix[:, 'index'].isin(rejectlist)]"
   ]
  },
  {
   "cell_type": "markdown",
   "metadata": {},
   "source": [
    "Plot of mitochondrial membrane potential(Δψ) profile along the mother-bud axis"
   ]
  },
  {
   "cell_type": "code",
   "execution_count": 12,
   "metadata": {
    "collapsed": false
   },
   "outputs": [],
   "source": [
    "sns.set_style('whitegrid')\n",
    "bigbinsmom = pd.melt(cellposmom,\n",
    "                     id_vars=['type', 'binvol'],\n",
    "                     var_name='mom axis position',\n",
    "                     value_name=r'$\\Delta\\Psi$ scaled gradient',\n",
    "                     value_vars=binsaxis.tolist())\n",
    "bigbinsmom = bigbinsmom.dropna()\n",
    "bigbinsbud = pd.melt(cellposbud,\n",
    "                     id_vars=['type', 'binvol'],\n",
    "                     var_name='bud axis position',\n",
    "                     value_name=r'$\\Delta\\Psi$ scaled gradient',\n",
    "                     value_vars=binsaxis.tolist())\n",
    "bigbinsbud = bigbinsbud.dropna()\n",
    "\n",
    "with sns.plotting_context('talk', font_scale=1.1):\n",
    "    h = sns.FacetGrid(bigbinsmom,\n",
    "                      col=\"type\",\n",
    "                      hue='type',\n",
    "                      col_wrap=2)\n",
    "    h = h.map(sns.pointplot,\n",
    "              'mom axis position',\n",
    "              r'$\\Delta\\Psi$ scaled gradient')\n",
    "    h.set_xlabels('mom cell axis position')\n",
    "    h.set(ylim=(0, 1.))\n",
    "\n",
    "    m = sns.FacetGrid(bigbinsbud,\n",
    "                      row=\"type\",\n",
    "                      col=\"binvol\",\n",
    "                      hue='type',\n",
    "                      col_order=binsvolbud[1:])\n",
    "    m = m.map(sns.pointplot,\n",
    "              'bud axis position',\n",
    "              r'$\\Delta\\Psi$ scaled gradient')\n",
    "    m.set_xticklabels(fontsize=14)\n",
    "    m.set_xlabels(\"bud axis position\")\n",
    "    m.set(ylim=(0, 1.))"
   ]
  },
  {
   "cell_type": "code",
   "execution_count": null,
   "metadata": {
    "collapsed": true
   },
   "outputs": [],
   "source": []
  }
 ],
 "metadata": {
  "kernelspec": {
   "display_name": "Python 2",
   "language": "python",
   "name": "python2"
  },
  "language_info": {
   "codemirror_mode": {
    "name": "ipython",
    "version": 2
   },
   "file_extension": ".py",
   "mimetype": "text/x-python",
   "name": "python",
   "nbconvert_exporter": "python",
   "pygments_lexer": "ipython2",
   "version": "2.7.11"
  }
 },
 "nbformat": 4,
 "nbformat_minor": 0
}
