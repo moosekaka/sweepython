{
 "cells": [
  {
   "cell_type": "code",
   "execution_count": 1,
   "metadata": {
    "collapsed": true
   },
   "outputs": [],
   "source": [
    "%matplotlib inline"
   ]
  },
  {
   "cell_type": "code",
   "execution_count": 2,
   "metadata": {
    "collapsed": false
   },
   "outputs": [
    {
     "name": "stderr",
     "output_type": "stream",
     "text": [
      "WARNING:traits.has_traits:DEPRECATED: traits.has_traits.wrapped_class, 'the 'implements' class advisor has been deprecated. Use the 'provides' class decorator.\n"
     ]
    }
   ],
   "source": [
    "import os\n",
    "import os.path as op\n",
    "import numpy as np\n",
    "from mayavi import mlab\n",
    "import fnmatch\n",
    "import pandas as pd\n",
    "from tvtk.api import tvtk\n",
    "from collections import defaultdict\n",
    "from vtk_viz import vtkvizfuncs as vz\n",
    "import cPickle as pickle\n",
    "# pylint: disable=C0103\n",
    "# pylint:disable=E1101\n",
    "vtkF = defaultdict(dict)\n",
    "mombud = defaultdict(dict)\n",
    "datadir = op.join(os.getcwd(),'data')\n",
    "\n",
    "# =============================================================================\n",
    "# filelist and graph list\n",
    "# =============================================================================\n",
    "for root, dirs, files in os.walk(op.join(datadir, 'normSkel')):\n",
    "    for i in files:\n",
    "        if fnmatch.fnmatch(i, '*skeleton.vtk'):\n",
    "            media = root.rsplit(os.sep, 1)[1]\n",
    "            vtkF[media][i[5:-13]] = op.join(root, i)\n",
    "for root, dirs, files in os.walk(op.join(datadir, 'csv')):\n",
    "    for i in files:\n",
    "        if fnmatch.fnmatch(i, 'YP*csv'):\n",
    "            mombud[i[:-4]] = op.join(root, i)\n",
    "\n",
    "filekeys = {item: vtkF[media][item] for media\n",
    "            in sorted(vtkF.keys()) for item\n",
    "            in sorted(vtkF[media].keys())}\n",
    "\n",
    "DataSize = pd.read_table(op.join(datadir, 'csv', 'Results.txt'))\n",
    "df = DataSize.ix[:, 1:]\n",
    "df['cell'] = df.ix[:, 'Label'].apply(lambda x: x.partition(':')[2])\n",
    "df['vol'] = 4 / 3 * np.pi * (df.Major * .055 / 2) * (df.Minor * .055 / 2) ** 2\n"
   ]
  },
  {
   "cell_type": "code",
   "execution_count": 3,
   "metadata": {
    "collapsed": false
   },
   "outputs": [],
   "source": [
    "dfmb = pd.DataFrame(columns=['base', 'neck', 'tip', 'media'])\n",
    "mlab.close(all=True)\n",
    "for _, key in enumerate(sorted(mombud.keys())[5:6]):\n",
    "    df1 = pd.read_csv(op.join(datadir, 'csv', '%s.csv' % key),\n",
    "                      header=0,\n",
    "                      names=['x', 'y', 'z'],\n",
    "                      index_col=0)\n",
    "    tip = np.array(df1.ix['tip'])\n",
    "    base = np.array(df1.ix['base'])\n",
    "    neck = np.array(df1.ix['neck'])\n",
    "\n",
    "    filekey = key\n",
    "    df2 = vz.getelipspar(filekey, df)\n",
    "    df2 = df2.sort_values('vol')\n",
    "    df2.reset_index(drop=True, inplace=True)\n",
    "    df2.index = ['bud', 'mom']\n",
    "    df2['center'] = zip((df2.X - 25) * .055, (225 - df2.Y) * .055)\n",
    "    figone = mlab.figure(figure=filekey,\n",
    "                         size=(800, 600),\n",
    "                         bgcolor=(0., 0., 0.))\n",
    "\n",
    "    figone.scene.disable_render = True\n",
    "    _, vtkobj, tubeout = vz.cellplot(figone, filekeys, filekey)\n",
    "    xmin, xmax, ymin, ymax, zmin, zmax = vtkobj.outputs[0].bounds"
   ]
  },
  {
   "cell_type": "code",
   "execution_count": 5,
   "metadata": {
    "collapsed": false
   },
   "outputs": [
    {
     "data": {
      "text/plain": [
       "7.310719966888428"
      ]
     },
     "execution_count": 5,
     "metadata": {},
     "output_type": "execute_result"
    }
   ],
   "source": [
    "xmax"
   ]
  },
  {
   "cell_type": "code",
   "execution_count": 6,
   "metadata": {
    "collapsed": false
   },
   "outputs": [
    {
     "data": {
      "text/html": [
       "<div>\n",
       "<table border=\"1\" class=\"dataframe\">\n",
       "  <thead>\n",
       "    <tr style=\"text-align: right;\">\n",
       "      <th></th>\n",
       "      <th>base</th>\n",
       "      <th>neck</th>\n",
       "      <th>tip</th>\n",
       "      <th>media</th>\n",
       "    </tr>\n",
       "  </thead>\n",
       "  <tbody>\n",
       "  </tbody>\n",
       "</table>\n",
       "</div>"
      ],
      "text/plain": [
       "Empty DataFrame\n",
       "Columns: [base, neck, tip, media]\n",
       "Index: []"
      ]
     },
     "execution_count": 6,
     "metadata": {},
     "output_type": "execute_result"
    }
   ],
   "source": [
    "dfmb"
   ]
  },
  {
   "cell_type": "code",
   "execution_count": 7,
   "metadata": {
    "collapsed": false
   },
   "outputs": [
    {
     "data": {
      "text/html": [
       "<div>\n",
       "<table border=\"1\" class=\"dataframe\">\n",
       "  <thead>\n",
       "    <tr style=\"text-align: right;\">\n",
       "      <th></th>\n",
       "      <th>x</th>\n",
       "      <th>y</th>\n",
       "      <th>z</th>\n",
       "    </tr>\n",
       "  </thead>\n",
       "  <tbody>\n",
       "    <tr>\n",
       "      <th>neck</th>\n",
       "      <td>3.7284</td>\n",
       "      <td>5.5492</td>\n",
       "      <td>3.1483</td>\n",
       "    </tr>\n",
       "    <tr>\n",
       "      <th>base</th>\n",
       "      <td>8.5468</td>\n",
       "      <td>6.2690</td>\n",
       "      <td>3.6362</td>\n",
       "    </tr>\n",
       "    <tr>\n",
       "      <th>tip</th>\n",
       "      <td>2.1189</td>\n",
       "      <td>5.2158</td>\n",
       "      <td>3.0018</td>\n",
       "    </tr>\n",
       "    <tr>\n",
       "      <th>centerpt</th>\n",
       "      <td>2.7094</td>\n",
       "      <td>NaN</td>\n",
       "      <td>NaN</td>\n",
       "    </tr>\n",
       "  </tbody>\n",
       "</table>\n",
       "</div>"
      ],
      "text/plain": [
       "               x       y       z\n",
       "neck      3.7284  5.5492  3.1483\n",
       "base      8.5468  6.2690  3.6362\n",
       "tip       2.1189  5.2158  3.0018\n",
       "centerpt  2.7094     NaN     NaN"
      ]
     },
     "execution_count": 7,
     "metadata": {},
     "output_type": "execute_result"
    }
   ],
   "source": [
    "df1\n"
   ]
  },
  {
   "cell_type": "code",
   "execution_count": 8,
   "metadata": {
    "collapsed": false
   },
   "outputs": [
    {
     "data": {
      "text/html": [
       "<div>\n",
       "<table border=\"1\" class=\"dataframe\">\n",
       "  <thead>\n",
       "    <tr style=\"text-align: right;\">\n",
       "      <th></th>\n",
       "      <th>Label</th>\n",
       "      <th>X</th>\n",
       "      <th>Y</th>\n",
       "      <th>Major</th>\n",
       "      <th>Minor</th>\n",
       "      <th>Angle</th>\n",
       "      <th>cell</th>\n",
       "      <th>vol</th>\n",
       "      <th>center</th>\n",
       "    </tr>\n",
       "  </thead>\n",
       "  <tbody>\n",
       "    <tr>\n",
       "      <th>bud</th>\n",
       "      <td>CombinedStack-1.tif:YPD_042515_011_RFPstack_012</td>\n",
       "      <td>79.146</td>\n",
       "      <td>128.285</td>\n",
       "      <td>33.542</td>\n",
       "      <td>30.785</td>\n",
       "      <td>3.498</td>\n",
       "      <td>YPD_042515_011_RFPstack_012</td>\n",
       "      <td>2.076898</td>\n",
       "      <td>(2.97803, 5.319325)</td>\n",
       "    </tr>\n",
       "    <tr>\n",
       "      <th>mom</th>\n",
       "      <td>CombinedStack-1.tif:YPD_042515_011_RFPstack_012</td>\n",
       "      <td>138.366</td>\n",
       "      <td>120.717</td>\n",
       "      <td>94.517</td>\n",
       "      <td>83.251</td>\n",
       "      <td>6.516</td>\n",
       "      <td>YPD_042515_011_RFPstack_012</td>\n",
       "      <td>42.799313</td>\n",
       "      <td>(6.23513, 5.735565)</td>\n",
       "    </tr>\n",
       "  </tbody>\n",
       "</table>\n",
       "</div>"
      ],
      "text/plain": [
       "                                               Label        X        Y  \\\n",
       "bud  CombinedStack-1.tif:YPD_042515_011_RFPstack_012   79.146  128.285   \n",
       "mom  CombinedStack-1.tif:YPD_042515_011_RFPstack_012  138.366  120.717   \n",
       "\n",
       "      Major   Minor  Angle                         cell        vol  \\\n",
       "bud  33.542  30.785  3.498  YPD_042515_011_RFPstack_012   2.076898   \n",
       "mom  94.517  83.251  6.516  YPD_042515_011_RFPstack_012  42.799313   \n",
       "\n",
       "                  center  \n",
       "bud  (2.97803, 5.319325)  \n",
       "mom  (6.23513, 5.735565)  "
      ]
     },
     "execution_count": 8,
     "metadata": {},
     "output_type": "execute_result"
    }
   ],
   "source": [
    "df2"
   ]
  },
  {
   "cell_type": "code",
   "execution_count": null,
   "metadata": {
    "collapsed": true
   },
   "outputs": [],
   "source": []
  }
 ],
 "metadata": {
  "kernelspec": {
   "display_name": "Python 2",
   "language": "python",
   "name": "python2"
  },
  "language_info": {
   "codemirror_mode": {
    "name": "ipython",
    "version": 2
   },
   "file_extension": ".py",
   "mimetype": "text/x-python",
   "name": "python",
   "nbconvert_exporter": "python",
   "pygments_lexer": "ipython2",
   "version": "2.7.11"
  }
 },
 "nbformat": 4,
 "nbformat_minor": 0
}
