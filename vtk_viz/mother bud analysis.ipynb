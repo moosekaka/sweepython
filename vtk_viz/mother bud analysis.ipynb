{
 "cells": [
  {
   "cell_type": "markdown",
   "metadata": {},
   "source": [
    "## Mother Daughter Δψ asymmetry analysis"
   ]
  },
  {
   "cell_type": "code",
   "execution_count": 3,
   "metadata": {
    "collapsed": true
   },
   "outputs": [],
   "source": [
    "%matplotlib inline"
   ]
  },
  {
   "cell_type": "code",
   "execution_count": 4,
   "metadata": {
    "collapsed": false
   },
   "outputs": [
    {
     "ename": "ImportError",
     "evalue": "No module named vtk_viz",
     "output_type": "error",
     "traceback": [
      "\u001b[1;31m---------------------------------------------------------------------------\u001b[0m",
      "\u001b[1;31mImportError\u001b[0m                               Traceback (most recent call last)",
      "\u001b[1;32m<ipython-input-4-63c2e0057877>\u001b[0m in \u001b[0;36m<module>\u001b[1;34m()\u001b[0m\n\u001b[0;32m      5\u001b[0m \u001b[1;32mimport\u001b[0m \u001b[0mpandas\u001b[0m \u001b[1;32mas\u001b[0m \u001b[0mpd\u001b[0m\u001b[1;33m\u001b[0m\u001b[0m\n\u001b[0;32m      6\u001b[0m \u001b[1;32mimport\u001b[0m \u001b[0mseaborn\u001b[0m \u001b[1;32mas\u001b[0m \u001b[0msns\u001b[0m\u001b[1;33m\u001b[0m\u001b[0m\n\u001b[1;32m----> 7\u001b[1;33m \u001b[1;32mfrom\u001b[0m \u001b[0mvtk_viz\u001b[0m \u001b[1;32mimport\u001b[0m \u001b[0mvtk_mbfuncs\u001b[0m \u001b[1;32mas\u001b[0m \u001b[0mvf\u001b[0m\u001b[1;33m\u001b[0m\u001b[0m\n\u001b[0m\u001b[0;32m      8\u001b[0m \u001b[1;32mimport\u001b[0m \u001b[0mmatplotlib\u001b[0m\u001b[1;33m.\u001b[0m\u001b[0mpyplot\u001b[0m \u001b[1;32mas\u001b[0m \u001b[0mplt\u001b[0m\u001b[1;33m\u001b[0m\u001b[0m\n\u001b[0;32m      9\u001b[0m \u001b[1;32mimport\u001b[0m \u001b[0mnumpy\u001b[0m \u001b[1;32mas\u001b[0m \u001b[0mnp\u001b[0m\u001b[1;33m\u001b[0m\u001b[0m\n",
      "\u001b[1;31mImportError\u001b[0m: No module named vtk_viz"
     ]
    }
   ],
   "source": [
    "import os\n",
    "import cPickle as pickle\n",
    "import fnmatch\n",
    "from collections import defaultdict\n",
    "import pandas as pd\n",
    "import seaborn as sns\n",
    "from vtk_viz import vtk_mbfuncs as vf\n",
    "import matplotlib.pyplot as plt\n",
    "import numpy as np"
   ]
  },
  {
   "cell_type": "markdown",
   "metadata": {},
   "source": [
    "Set defaults for plotting"
   ]
  },
  {
   "cell_type": "code",
   "execution_count": null,
   "metadata": {
    "collapsed": true
   },
   "outputs": [],
   "source": [
    "plt.rcParams['font.family'] = 'DejaVu Sans'\n",
    "vtkF = defaultdict(dict)\n",
    "sns.set_style('whitegrid')"
   ]
  },
  {
   "cell_type": "markdown",
   "metadata": {},
   "source": [
    "Dataframe and bins initialization"
   ]
  },
  {
   "cell_type": "code",
   "execution_count": null,
   "metadata": {
    "collapsed": true
   },
   "outputs": [],
   "source": [
    "vtkF = defaultdict(dict)\n",
    "cellall = pd.DataFrame(columns=['mom', 'bud'])\n",
    "cellposmom = pd.DataFrame()\n",
    "cellposbud = pd.DataFrame()\n",
    "neckregion = pd.DataFrame()\n",
    "binsbudprog = np.array([0., 0.1, 0.2, 0.3, 0.4, 0.5,\n",
    "                        0.6, 0.7, 0.8, 0.9, 1., 2.])\n",
    "binsaxis = np.linspace(0., 1., 6)\n",
    "binsaxisbig = np.linspace(0, 1., 11)\n",
    "binsvolbud = np.linspace(0, 40, 5)\n",
    "binsvolmom = np.array([0, 30, 40, 80.])"
   ]
  },
  {
   "cell_type": "markdown",
   "metadata": {},
   "source": [
    "Load data files which are coordinates and Δψ values along the mitochondrial network"
   ]
  },
  {
   "cell_type": "code",
   "execution_count": null,
   "metadata": {
    "collapsed": false
   },
   "outputs": [],
   "source": [
    "with open('data\\mombudtrans.pkl', 'rb') as inpt:\n",
    "    dfmb = pickle.load(inpt)  # has columns base, neck, tip, media, bud, mom\n",
    "\n",
    "for root, dirs, files in os.walk(os.getcwd()):\n",
    "    for i in files:\n",
    "        if fnmatch.fnmatch(i, '*.vtk'):\n",
    "            media = root.rsplit('\\\\', 1)[1]\n",
    "            vtkF[media][i[:-4]] = os.path.join(root, i)\n",
    "\n",
    "filekeys = {item: vtkF[media][item] for media\n",
    "            in sorted(vtkF.keys()) for item\n",
    "            in sorted(vtkF[media].keys())}"
   ]
  },
  {
   "cell_type": "markdown",
   "metadata": {},
   "source": [
    "Partition the mom and daughter cells using the points picked in the 'mombudtrans.pkl'. "
   ]
  },
  {
   "cell_type": "code",
   "execution_count": null,
   "metadata": {
    "collapsed": true
   },
   "outputs": [],
   "source": [
    "\n",
    "for _, key in enumerate(sorted(filekeys.keys())[:]):\n",
    "    cell = vf.cellpos(filekeys[key], dfmb)\n",
    "    # pos along x-axis for inidivual mom or bud cell\n",
    "    cell['binposx'] = vf.bincell(cell, 'posx', binsaxis)\n",
    "    # scaled Δψ to min-max of the GRADIENT within mom/bud\n",
    "    Xmom = cell.ix[cell['type'] == 'mom'].groupby('binposx').DY.mean()\n",
    "    Xbud = cell.ix[cell['type'] == 'bud'].groupby('binposx').DY.mean()\n",
    "    # pos along x-axis for the whole cell\n",
    "    cell['binposxcell'] = vf.bincell(cell, 'posxcell', binsaxisbig)\n",
    "    # scale Δψ to min-max of the GRADIENT within cell\n",
    "    DYcell = cell.groupby('binposxcell').DY.mean()\n",
    "    Xmom = vf.scaleminmax(Xmom, DYcell)\n",
    "    Xbud = vf.scaleminmax(Xbud, DYcell)\n",
    "    Xbud.name = key\n",
    "    Xmom.name = key\n",
    "    medianDY = cell.groupby('type').median().DY\n",
    "    medianDY.name = key\n",
    "    cellall = cellall.append(medianDY)\n",
    "    cellposbud = cellposbud.append(Xbud)\n",
    "    cellposmom = cellposmom.append(Xmom)\n",
    "    # temp dict of mean Δψ at +- range of dist from budneck\n",
    "    tempdic = {dist: vf.neckDY(cell, cell.neckpos, dist)\n",
    "               for dist in [.15, .3, .5]}\n",
    "    temp = pd.DataFrame({'bud': pd.Series({k: tempdic[k][0] for k in tempdic}),\n",
    "                         'mom': pd.Series({k: tempdic[k][1] for k in tempdic}),\n",
    "                         'cellname': key})\n",
    "    temp['dist'] = temp.index\n",
    "    temp.set_index('cellname', inplace=True)\n",
    "    neckregion = neckregion.append(temp, ignore_index=False)\n",
    "\n",
    "cellall['budvol'] = dfmb.bud\n",
    "cellall['momvol'] = dfmb.mom\n",
    "cellall = cellall.reset_index()\n",
    "cellall['type'] = cellall['index'].apply(lambda x: x[:3])\n",
    "cellposbud = cellposbud.reset_index()\n",
    "cellposmom = cellposmom.reset_index()\n",
    "cellposbud = pd.concat([cellposbud, cellall.ix[:, ['type', 'neck']]], axis=1)\n",
    "cellposmom = pd.concat([cellposmom, cellall.ix[:, ['type', 'neck']]], axis=1)\n",
    "\n",
    "cellall['frac'] = cellall.ix[:, 'bud'] / cellall.ix[:, 'mom']\n",
    "Q = cellall.groupby('type').quantile(.90)  # 90th percentile of each cols\n",
    "#  q90 = 90th percentile bud volume of each media type\n",
    "cellall['q90'] = cellall.type.apply(lambda x: Q.ix[x].budvol)\n",
    "gt90 = cellall[cellall['budvol'] > cellall['q90']]\n",
    "meangt90 = gt90.groupby('type').budvol.mean()\n",
    "cellall['mean90'] = cellall.type.apply(lambda x: meangt90.ix[x])\n",
    "#  budvolratio is based on the largest 10% cells\n",
    "cellall['budvolratio'] = cellall.budvol / cellall.q90\n",
    "cellposbud['budvol'] = cellall['budvol']\n",
    "cellposmom['momvol'] = cellall['momvol']\n",
    "\n",
    "cellposbud['binvol'] = vf.bincell(cellposbud, 'budvol', binsvolbud)\n",
    "cellposmom['binvol'] = vf.bincell(cellposmom, 'momvol', binsvolmom)"
   ]
  },
  {
   "cell_type": "markdown",
   "metadata": {
    "collapsed": true
   },
   "source": [
    "Cells binned by their progression along the cell cycle"
   ]
  },
  {
   "cell_type": "code",
   "execution_count": null,
   "metadata": {
    "collapsed": true
   },
   "outputs": [],
   "source": [
    "BIG = pd.melt(cellall,\n",
    "              id_vars=['type'],\n",
    "              value_vars=['frac'])\n",
    "groups = BIG.groupby('type')\n",
    "\n",
    "BIG2 = pd.melt(cellall,\n",
    "               id_vars=['type'],\n",
    "               value_vars=['mom', 'bud'])\n",
    "\n",
    "cellall['bin_budprog'] = vf.bincell(cellall, 'budvolratio', binsbudprog)\n",
    "\n",
    "\n",
    "cellall['binbudvol'] = cellposbud['binvol']\n",
    "\n",
    "# reject super large cells\n",
    "rejectlist = cellposmom.ix[(np.asarray(cellposmom.momvol) > 60) &\n",
    "                           (cellposmom.type != 'YPD'), 'index']\n",
    "cellall = cellall.ix[~ cellall.ix[:, 'index'].isin(rejectlist)]\n",
    "cellposmom = cellposmom.ix[~cellposmom.ix[:, 'index'].isin(rejectlist)]\n",
    "cellposbud = cellposbud.ix[~cellposbud.ix[:, 'index'].isin(rejectlist)]"
   ]
  },
  {
   "cell_type": "markdown",
   "metadata": {},
   "source": [
    "Finally, convert the DataFrames into 'long-form'."
   ]
  },
  {
   "cell_type": "code",
   "execution_count": null,
   "metadata": {
    "collapsed": true
   },
   "outputs": [],
   "source": [
    "bigbinsmom = pd.melt(cellposmom,\n",
    "                     id_vars=['type', 'binvol'],\n",
    "                     var_name='mom axis position',\n",
    "                     value_name=r'$\\Delta\\Psi$ scaled gradient',\n",
    "                     value_vars=binsaxis.tolist())\n",
    "bigbinsmom = bigbinsmom.dropna()\n",
    "bigbinsbud = pd.melt(cellposbud,\n",
    "                     id_vars=['type', 'binvol'],\n",
    "                     var_name='bud axis position',\n",
    "                     value_name=r'$\\Delta\\Psi$ scaled gradient',\n",
    "                     value_vars=binsaxis.tolist())\n",
    "bigbinsbud = bigbinsbud.dropna()"
   ]
  },
  {
   "cell_type": "markdown",
   "metadata": {},
   "source": [
    "Plot of mitochondrial membrane potential (Δψ) profile along the mother cell axis"
   ]
  },
  {
   "cell_type": "code",
   "execution_count": null,
   "metadata": {
    "collapsed": false
   },
   "outputs": [],
   "source": [
    "with sns.plotting_context('talk', font_scale=1.1):\n",
    "    h = sns.FacetGrid(bigbinsmom,\n",
    "                      col=\"type\",\n",
    "                      hue='type',\n",
    "                      col_wrap=2)\n",
    "    h = h.map(sns.pointplot,\n",
    "              'mom axis position',\n",
    "              r'$\\Delta\\Psi$ scaled gradient')\n",
    "    h.set_xlabels('mom cell axis position')\n",
    "    h.set(ylim=(0, 1.))"
   ]
  },
  {
   "cell_type": "markdown",
   "metadata": {},
   "source": [
    "Plot of mitochondrial membrane potential (Δψ) profile along the bud cell axis. Buds are partitioned according to their cell volume, with smaller buds indicating a bud at an earlier point along the cell growth cycle."
   ]
  },
  {
   "cell_type": "code",
   "execution_count": null,
   "metadata": {
    "collapsed": false
   },
   "outputs": [],
   "source": [
    "with sns.plotting_context('talk', font_scale=1.1):\n",
    "    m = sns.FacetGrid(bigbinsbud,\n",
    "                      row=\"type\",\n",
    "                      col=\"binvol\",\n",
    "                      hue='type',\n",
    "                      col_order=binsvolbud[1:])\n",
    "    m = m.map(sns.pointplot,\n",
    "              'bud axis position',\n",
    "              r'$\\Delta\\Psi$ scaled gradient')\n",
    "    m.set_xticklabels(fontsize=14)\n",
    "    m.set_xlabels(\"bud axis position\")\n",
    "    m.set(ylim=(0, 1.))"
   ]
  },
  {
   "cell_type": "code",
   "execution_count": null,
   "metadata": {
    "collapsed": false
   },
   "outputs": [],
   "source": [
    "with sns.plotting_context('talk', font_scale=1.4):\n",
    "    _, ax3 = plt.subplots(1, 1)\n",
    "    h = sns.violinplot(x='type',\n",
    "                       y='value',\n",
    "                       hue='variable',\n",
    "                       data=BIG2,\n",
    "                       ax=ax3)\n",
    "    sns.stripplot(x='type',\n",
    "                  y='value',\n",
    "                  hue='variable',\n",
    "                  jitter=.15,\n",
    "                  size=4,\n",
    "                  data=BIG2,\n",
    "                  ax=ax3)\n",
    "    h.set_ylim(0, 1.)\n"
   ]
  },
  {
   "cell_type": "code",
   "execution_count": null,
   "metadata": {
    "collapsed": true
   },
   "outputs": [],
   "source": []
  }
 ],
 "metadata": {
  "kernelspec": {
   "display_name": "Python 2",
   "language": "python",
   "name": "python2"
  },
  "language_info": {
   "codemirror_mode": {
    "name": "ipython",
    "version": 2
   },
   "file_extension": ".py",
   "mimetype": "text/x-python",
   "name": "python",
   "nbconvert_exporter": "python",
   "pygments_lexer": "ipython2",
   "version": "2.7.11"
  }
 },
 "nbformat": 4,
 "nbformat_minor": 0
}
